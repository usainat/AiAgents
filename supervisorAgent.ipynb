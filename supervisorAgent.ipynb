{
 "cells": [
  {
   "cell_type": "code",
   "execution_count": 458,
   "metadata": {},
   "outputs": [
    {
     "data": {
      "text/plain": [
       "True"
      ]
     },
     "execution_count": 458,
     "metadata": {},
     "output_type": "execute_result"
    }
   ],
   "source": [
    "from dotenv import load_dotenv\n",
    "load_dotenv()"
   ]
  },
  {
   "cell_type": "code",
   "execution_count": 459,
   "metadata": {},
   "outputs": [],
   "source": [
    "from langchain_groq import ChatGroq\n",
    "from langchain_openai import ChatOpenAI\n",
    "llm=ChatGroq(model_name=\"deepseek-r1-distill-llama-70b\")\n",
    "model = ChatOpenAI()"
   ]
  },
  {
   "cell_type": "code",
   "execution_count": 460,
   "metadata": {},
   "outputs": [],
   "source": [
    "#response = model.invoke(\"what is sun parma company?\")\n",
    "import random"
   ]
  },
  {
   "cell_type": "code",
   "execution_count": 461,
   "metadata": {},
   "outputs": [],
   "source": [
    "response =\"Sun Pharma is an Indian multinational pharmaceutical company headquartered in Mumbai, Maharashtra. It is the largest pharmaceutical company in India and one of the largest pharmaceutical companies in the world. Sun Pharma manufactures and sells a wide range of pharmaceutical products in various therapeutic areas including dermatology, cardiology, neurology, and ophthalmology.\"\n"
   ]
  },
  {
   "cell_type": "code",
   "execution_count": 462,
   "metadata": {},
   "outputs": [],
   "source": [
    "from typing import Literal\n",
    "from langchain_openai import ChatOpenAI\n",
    "from langgraph.graph import StateGraph, MessagesState, START, END\n",
    "from langgraph.types import Command"
   ]
  },
  {
   "cell_type": "code",
   "execution_count": 463,
   "metadata": {},
   "outputs": [],
   "source": [
    "class State(MessagesState):\n",
    "    next:str\n",
    "#state={\"messages\": [\"hi\"], \"next\": \"research_agent\"}"
   ]
  },
  {
   "cell_type": "code",
   "execution_count": 464,
   "metadata": {},
   "outputs": [],
   "source": [
    "#print(state)\n",
    "from langchain_core.messages import HumanMessage"
   ]
  },
  {
   "cell_type": "code",
   "execution_count": 465,
   "metadata": {},
   "outputs": [],
   "source": [
    "import json\n",
    "import re\n",
    "def team_1_supervisor(state: State) -> Command[Literal[\"team_1_agent_1\", \"team_1_agent_2\", END]]:\n",
    "    print(\"**********team_1_supervisor***************\")\n",
    "    print(state[\"messages\"][0])\n",
    "    if len(state[\"messages\"]) == 1:\n",
    "        print(state) \n",
    "        customer_question = state[\"messages\"][0]\n",
    "        prompt = f\"\"\"\n",
    "        You are an intelligent assistant responsible for analyzing a customer's question and routing it to the correct specialist team.\n",
    "\n",
    "        Your task is to:\n",
    "        1. Determine if the question is about:\n",
    "        - **Medical / Pharmaceutical** → respond with `\"next\": \"team_1_agent_1\"`\n",
    "        - **Financial** → respond with `\"next\": \"team_1_agent_2\"`\n",
    "        - **General Research** → respond with `\"next\": \"END\"` and include a detailed explanation (at least 10 lines) in `\"message\"`\n",
    "\n",
    "        ❗Respond STRICTLY in JSON format with no commentary, no <think>, and no markdown.\n",
    "\n",
    "        The format must be:\n",
    "\n",
    "        {{\n",
    "        \"next\": \"team_1_agent_1\" | \"team_1_agent_2\" | \"END\",\n",
    "        \"message\": \"<brief explanation or detailed info>\"\n",
    "        }}\n",
    "\n",
    "        Customer question:\n",
    "        \"{customer_question}\"\n",
    "        \"\"\"\n",
    "\n",
    "        # Fill the prompt with the customer question\n",
    "        #filled_prompt = prompt.format(customer_question=customer_question)\n",
    "        response =llm.invoke([HumanMessage(content=prompt)]).content.strip()\n",
    "        try:\n",
    "            match = re.search(r'\\{.*\\}', response, re.DOTALL)\n",
    "            if not match:\n",
    "                raise ValueError(\"No JSON object found in LLM response.\")\n",
    "            \n",
    "            json_text = match.group(0)\n",
    "            parsed = json.loads(json_text)\n",
    "            next_node = parsed[\"next\"]\n",
    "            message = parsed[\"message\"]\n",
    "\n",
    "            print(f\"Next: {next_node}\")\n",
    "            print(f\"Message: {message}\")\n",
    "            return Command(goto=next_node, update={\"messages\": state[\"messages\"] + [message]})\n",
    "\n",
    "        except Exception as e:\n",
    "            print(\"❌ Failed to parse LLM response:\", e)\n",
    "            return Command(goto=END, update={\"messages\": state[\"messages\"] + [\"LLM parsing failed\"]})\n",
    "    else:\n",
    "        #print(\"Prepare Report\")\n",
    "        return Command(goto=END, update={\"messages\": state[\"messages\"] + [\"Prepare report\"]})  \n",
    "\n"
   ]
  },
  {
   "cell_type": "code",
   "execution_count": 466,
   "metadata": {},
   "outputs": [
    {
     "name": "stdout",
     "output_type": "stream",
     "text": [
      "**********team_1_supervisor***************\n",
      "What is the current gdp of the india?\n",
      "{'messages': ['What is the current gdp of the india?'], 'next': 'top_level_supervisor'}\n"
     ]
    },
    {
     "name": "stdout",
     "output_type": "stream",
     "text": [
      "Next: team_1_agent_2\n",
      "Message: The question is about GDP, which is a financial topic.\n"
     ]
    },
    {
     "data": {
      "text/plain": [
       "Command(update={'messages': ['What is the current gdp of the india?', 'The question is about GDP, which is a financial topic.']}, goto='team_1_agent_2')"
      ]
     },
     "execution_count": 466,
     "metadata": {},
     "output_type": "execute_result"
    }
   ],
   "source": [
    "\n",
    "team_1_supervisor({'messages': [\"What is the current gdp of the india?\"], 'next': 'top_level_supervisor'})"
   ]
  },
  {
   "cell_type": "code",
   "execution_count": 467,
   "metadata": {},
   "outputs": [],
   "source": [
    "class Statess(MessagesState):\n",
    "    next: Literal[\"team_1_agent_1\", \"team_1_agent_1\", \"__end__\"]"
   ]
  },
  {
   "cell_type": "code",
   "execution_count": 468,
   "metadata": {},
   "outputs": [],
   "source": [
    "def team_1_agent_1(state: State) -> Command[Literal[\"team_1_supervisor\"]]:\n",
    "    print(\"**********team_1_agent1***************\")\n",
    "    \n",
    "    # options = {\"team_1_supervisor\", END}\n",
    "    # # Pick one random value\n",
    "    # selected = random.choice(list(options))\n",
    "    # response ={\"next\":selected}\n",
    "    # goto = response[\"next\"]\n",
    "    customer_question = state[\"messages\"][0]\n",
    "    prompt = f\"\"\"\n",
    "    You are a highly skilled medical expert assigned to analyze customer MEDICAL/PHRAMA inquiries and provide a comprehensive, detailed report.\n",
    "\n",
    "    Your responsibilities include:\n",
    "    1. Carefully review the customer's question.\n",
    "    2. If the question is MEDICAL/PHRAMA in nature, respond with:\n",
    "    - \"next\": \"team_1_supervisor\"\n",
    "    - \"message\": a detailed medical analysis or report based on the question (minimum 10 lines).\n",
    "    3. If the question is unrelated or contains insufficient/invalid content, respond with:\n",
    "    - \"next\": \"END\"\n",
    "    - \"message\": a brief explanation of why the input could not be processed.\n",
    "\n",
    "    ⚠️ You must respond **strictly** in valid JSON format with **no extra commentary**, no `<think>` tags, and no markdown.\n",
    "\n",
    "    Expected response format:\n",
    "    {{\n",
    "    \"next\": \"team_1_supervisor\" | \"END\",\n",
    "    \"message\": \"<detailed financial report or error explanation>\"\n",
    "    }}\n",
    "\n",
    "    Customer question:\n",
    "    \"{customer_question}\"\n",
    "    \"\"\"\n",
    "\n",
    "    # Fill the prompt with the customer question\n",
    "    #filled_prompt = prompt.format(customer_question=customer_question)\n",
    "    response =llm.invoke([HumanMessage(content=prompt)]).content.strip()\n",
    "    print(f\"response of T1A1 :  {response}\")\n",
    "    try:\n",
    "        match = re.search(r'\\{.*\\}', response, re.DOTALL)\n",
    "        if not match:\n",
    "            raise ValueError(\"No JSON object found in LLM response.\")\n",
    "        \n",
    "        json_text = match.group(0)\n",
    "        parsed = json.loads(json_text)\n",
    "        next_node = parsed[\"next\"]\n",
    "        message = parsed[\"message\"]\n",
    "\n",
    "        print(f\"Next: {next_node}\")\n",
    "        print(f\"Message: {message}\")\n",
    "        return Command(goto=next_node, update={\"messages\": state[\"messages\"] + [message]})\n",
    "\n",
    "    except Exception as e:\n",
    "        print(\"❌ Failed to parse LLM response:\", e)\n",
    "        return Command(goto=END, update={\"messages\": state[\"messages\"] + [\"LLM parsing failed\"]})\n",
    "    \n",
    "    return Command(goto=goto, update=state)"
   ]
  },
  {
   "cell_type": "code",
   "execution_count": 469,
   "metadata": {},
   "outputs": [],
   "source": [
    "def team_1_agent_2(state: State) -> Command[Literal[\"team_1_supervisor\"]]:\n",
    "    print(\"**********team_1_agent2***************\")\n",
    "    for msg in state['messages']:\n",
    "        print(f\"Message \\n {msg}\")\n",
    "    customer_question = state[\"messages\"][0]\n",
    "    prompt = f\"\"\"\n",
    "    You are a highly skilled financial expert assigned to analyze customer financial inquiries and provide a comprehensive, detailed report.\n",
    "\n",
    "    Your responsibilities include:\n",
    "    1. Carefully review the customer's question.\n",
    "    2. If the question is financial in nature, respond with:\n",
    "    - \"next\": \"team_1_supervisor\"\n",
    "    - \"message\": a detailed financial analysis or report based on the question (minimum 10 lines).\n",
    "    3. If the question is unrelated or contains insufficient/invalid content, respond with:\n",
    "    - \"next\": \"END\"\n",
    "    - \"message\": a brief explanation of why the input could not be processed.\n",
    "\n",
    "    ⚠️ You must respond **strictly** in valid JSON format with **no extra commentary**, no `<think>` tags, and no markdown.\n",
    "\n",
    "    Expected response format:\n",
    "    {{\n",
    "    \"next\": \"team_1_supervisor\" | \"END\",\n",
    "    \"message\": \"<detailed financial report or error explanation>\"\n",
    "    }}\n",
    "\n",
    "    Customer question:\n",
    "    \"{customer_question}\"\n",
    "    \"\"\"\n",
    "\n",
    "    # Fill the prompt with the customer question\n",
    "    #filled_prompt = prompt.format(customer_question=customer_question)\n",
    "    response =llm.invoke([HumanMessage(content=prompt)]).content.strip()\n",
    "    print(f\"response of T1A2 :  {response}\")\n",
    "    try:\n",
    "        match = re.search(r'\\{.*\\}', response, re.DOTALL)\n",
    "        if not match:\n",
    "            raise ValueError(\"No JSON object found in LLM response.\")\n",
    "        \n",
    "        json_text = match.group(0)\n",
    "        parsed = json.loads(json_text)\n",
    "        next_node = parsed[\"next\"]\n",
    "        message = parsed[\"message\"]\n",
    "\n",
    "        print(f\"Next: {next_node}\")\n",
    "        print(f\"Message: {message}\")\n",
    "        return Command(goto=next_node, update={\"messages\": state[\"messages\"] + [message]})\n",
    "\n",
    "    except Exception as e:\n",
    "        print(\"❌ Failed to parse LLM response:\", e)\n",
    "        return Command(goto=END, update={\"messages\": state[\"messages\"] + [\"LLM parsing failed\"]})\n",
    "    # options = {\"team_1_supervisor\", \"END\"}\n",
    "    # # Pick one random value\n",
    "    # selected = random.choice(list(options))\n",
    "    # response ={\"next\":selected}\n",
    "    # goto = response[\"next\"] "
   ]
  },
  {
   "cell_type": "code",
   "execution_count": 470,
   "metadata": {},
   "outputs": [],
   "source": [
    "# team_1_agent_2()"
   ]
  },
  {
   "cell_type": "code",
   "execution_count": 471,
   "metadata": {},
   "outputs": [],
   "source": [
    "team_1_builder = StateGraph(State) \n",
    "team_1_builder.add_node(team_1_supervisor)\n",
    "team_1_builder.add_node(\"team_1_agent_1\",team_1_agent_1)\n",
    "team_1_builder.add_node(\"team_1_agent_2\",team_1_agent_2)\n",
    "team_1_builder.add_edge(START, \"team_1_supervisor\")\n",
    "team_1_graph = team_1_builder.compile()"
   ]
  },
  {
   "cell_type": "code",
   "execution_count": 472,
   "metadata": {},
   "outputs": [
    {
     "data": {
      "image/png": "[encoded data removed]",
      "text/plain": [
       "<IPython.core.display.Image object>"
      ]
     },
     "metadata": {},
     "output_type": "display_data"
    }
   ],
   "source": [
    "from IPython.display import Image, display\n",
    "display(Image(team_1_graph.get_graph().draw_mermaid_png()))"
   ]
  },
  {
   "cell_type": "code",
   "execution_count": 473,
   "metadata": {},
   "outputs": [],
   "source": [
    "class Team2State(State):\n",
    "    next: Literal[\"team_2_agent_1\", \"team_2_agent_2\", \"__end__\"]"
   ]
  },
  {
   "cell_type": "code",
   "execution_count": 474,
   "metadata": {},
   "outputs": [],
   "source": [
    "def team_2_supervisor(state: State) -> Command[Literal[\"team_2_agent_1\", \"team_2_agent_2\",END]]:\n",
    "    print(\"**********team_2_supervisor***************\")\n",
    "    #  #response = model.invoke(...)\n",
    "    # options = {\"team_2_agent_1\", \"team_2_agent_2\",END}\n",
    "    # # Pick one random value\n",
    "    # selected = random.choice(list(options))\n",
    "    # response ={\"next\":selected}\n",
    "    # goto = response[\"next\"]\n",
    "    last_message = state[\"messages\"][-1]\n",
    "    if hasattr(last_message, \"content\"):\n",
    "        content = last_message.content.lower()\n",
    "        print(f\"lastmessage :{content}\") \n",
    "        normalized_content = content.lower().strip()\n",
    "        if \"summary\" in normalized_content:\n",
    "            print(\"goto team_2_agent_2\")\n",
    "            return Command(goto=\"team_2_agent_2\", update=state)\n",
    "        elif \"report generated\" in normalized_content or \"report gendrated\" in normalized_content:\n",
    "            print(\"goto END\")\n",
    "            return Command(goto=END, update=state)\n",
    "        elif \"prepare report\" in normalized_content:\n",
    "            print(\"goto team_2_agent_1\")\n",
    "            return Command(goto=\"team_2_agent_1\", update=state)\n",
    "        else:\n",
    "            print(\"Unrecognized content. Defaulting to END.\")\n",
    "            return Command(goto=END, update=state)\n",
    "\n",
    "    else:\n",
    "        print(\"Unrecognized content. Defaulting to END.\")\n",
    "        return Command(goto=END, update=state)\n",
    "    "
   ]
  },
  {
   "cell_type": "code",
   "execution_count": 475,
   "metadata": {},
   "outputs": [],
   "source": [
    "def team_2_agent_1(state: State) -> Command[Literal[\"team_2_supervisor\"]]:\n",
    "    print(\"**********team_2_agent1***************\")\n",
    "    # options = {\"team_2_supervisor\",END}\n",
    "    # # Pick one random value\n",
    "    # selected = random.choice(list(options))\n",
    "    # response ={\"next\":selected}\n",
    "    # goto = response[\"next\"]  \n",
    "    last_message = state[\"messages\"][-1]\n",
    "    question = last_message.content if hasattr(last_message, \"content\") else str(last_message)\n",
    "\n",
    "    \n",
    "    # Prompt template\n",
    "    prompt = f\"\"\"\n",
    "    You are a financial assistant.\n",
    "\n",
    "    Based on the following customer question, write a detailed financial summary report with insights, implications, and recommended next steps.\n",
    "\n",
    "    Customer Question:\n",
    "    \\\"\\\"\\\"{question}\\\"\\\"\\\"\n",
    "\n",
    "    Make sure the report is clear, professional, and about 8–10 lines long.\n",
    "    Return ONLY the summary with no intro, no markdown, and no extra tags.\n",
    "    \"\"\"\n",
    "\n",
    "    # Call the LLM\n",
    "    response = llm.invoke([HumanMessage(content=prompt)])\n",
    "    summary = response.content.strip()\n",
    "\n",
    "    print(\"✅ Generated Summary:\\n\", summary)\n",
    "\n",
    "    # Update state with new message (summary)\n",
    "    return Command(\n",
    "        goto=\"team_2_supervisor\",\n",
    "        update={\"messages\": state[\"messages\"] + [summary]}\n",
    "    )"
   ]
  },
  {
   "cell_type": "code",
   "execution_count": 476,
   "metadata": {},
   "outputs": [],
   "source": [
    "from fpdf import FPDF\n",
    "from docx import Document\n",
    "from datetime import datetime \n",
    "from typing import Literal\n",
    "\n",
    "def team_2_agent_2(state: State) -> Command[Literal[\"team_2_supervisor\"]]:\n",
    "    print(\"**********team_2_agent2***************\") \n",
    "    # options = {\"team_2_supervisor\",END}\n",
    "    # # Pick one random value\n",
    "    # selected = random.choice(list(options))\n",
    "    # response ={\"next\":selected}\n",
    "    # goto = response[\"next\"]\n",
    "    # Get the latest message (summary)\n",
    "    summary = state[\"messages\"][-3]\n",
    "    print(f\"message {summary} \")\n",
    "    if hasattr(summary, \"content\"):\n",
    "        summary_text = summary.content\n",
    "    else:\n",
    "        summary_text = str(summary)\n",
    "\n",
    "    # Timestamped filename\n",
    "    timestamp = datetime.now().strftime(\"%Y%m%d_%H%M%S\")\n",
    "    pdf_filename = f\"report_{timestamp}.pdf\"\n",
    "    docx_filename = f\"report_{timestamp}.docx\"\n",
    "\n",
    "    # Create PDF\n",
    "    pdf = FPDF()\n",
    "    pdf.add_page()\n",
    "    pdf.set_font(\"Arial\", size=12)\n",
    "    for line in summary_text.split('\\n'):\n",
    "        pdf.multi_cell(0, 10, line)\n",
    "    pdf.output(pdf_filename)\n",
    "    print(f\"✅ PDF saved as {pdf_filename}\")\n",
    "\n",
    "    # Create Word Document\n",
    "    doc = Document()\n",
    "    doc.add_heading(\"Summary Report\", 0)\n",
    "    doc.add_paragraph(summary_text)\n",
    "    doc.save(docx_filename)\n",
    "    print(f\"✅ Word Doc saved as {docx_filename}\")\n",
    "\n",
    "    # Return control with update\n",
    "    return Command(\n",
    "        goto=\"team_2_supervisor\",\n",
    "        update={\"messages\": state[\"messages\"] + [\"Report generated\"]}\n",
    "    )"
   ]
  },
  {
   "cell_type": "code",
   "execution_count": 477,
   "metadata": {},
   "outputs": [],
   "source": [
    "# input_state = AgentState(\n",
    "#     messages=[\"I'm traveling from India to Japan on 12–14 June 2026\"],\n",
    "#     fetch_info={'status': 'success', 'data': {'cityfrom': 'India', 'cityto': 'Japan', 'days': 3, 'traveldate': 'June 12-14, 2026'}},\n",
    "#     hotel_info=None,\n",
    "#     weather_info=None,\n",
    "#     attraction_info=None,\n",
    "#     currency_info=None,\n",
    "#     error=None\n",
    "# )\n",
    "# response = get_attraction(input_state)\n",
    "# print(response)"
   ]
  },
  {
   "cell_type": "code",
   "execution_count": 478,
   "metadata": {},
   "outputs": [],
   "source": [
    "team_2_builder = StateGraph(State) \n",
    "team_2_builder.add_node(team_2_supervisor)\n",
    "team_2_builder.add_node(team_2_agent_1)\n",
    "team_2_builder.add_node(team_2_agent_2)\n",
    "team_2_builder.add_edge(START, \"team_2_supervisor\")\n",
    "team_2_graph = team_2_builder.compile()"
   ]
  },
  {
   "cell_type": "code",
   "execution_count": 479,
   "metadata": {},
   "outputs": [
    {
     "data": {
      "image/png": "[encoded data removed]",
      "text/plain": [
       "<IPython.core.display.Image object>"
      ]
     },
     "metadata": {},
     "output_type": "display_data"
    }
   ],
   "source": [
    "from IPython.display import Image, display\n",
    "display(Image(team_2_graph.get_graph().draw_mermaid_png()))"
   ]
  },
  {
   "cell_type": "code",
   "execution_count": 480,
   "metadata": {},
   "outputs": [],
   "source": [
    "builder = StateGraph(Team2State)"
   ]
  },
  {
   "cell_type": "code",
   "execution_count": 481,
   "metadata": {},
   "outputs": [],
   "source": [
    "def top_level_supervisor(state: State) -> Command[Literal[\"team_1_graph\", \"team_2_graph\", END]]:\n",
    "    print(\"**********Top Supervisor***************\")\n",
    "    # goto = \"team_1_graph\" \n",
    "    print(state['messages'][-1].content) \n",
    "    last_message = state['messages'][-1].content\n",
    "\n",
    "    if(len(state[\"messages\"]) ==1):\n",
    "        goto= \"team_1_graph\"\n",
    "        state[\"next\"]= \"team_1_graph\"\n",
    "        print(goto) \n",
    "        return Command(goto=goto, update=state)\n",
    "    elif hasattr(last_message, \"content\"):\n",
    "        print(f\"check content {last_message}\")\n",
    "        content = last_message.content.lower()\n",
    "        if \"report gendrated\" == content:\n",
    "            print(\"✅ The message contains 'report gendrated'\")\n",
    "            goto= END\n",
    "            state[\"next\"]= END\n",
    "            print(goto) \n",
    "            return Command(goto=goto, update=state)\n",
    "        elif \"Prepare report\" == content:\n",
    "            goto= \"team_2_graph\"\n",
    "            state[\"next\"]= \"team_2_graph\"\n",
    "            print(goto) \n",
    "            return Command(goto=goto, update=state)\n",
    "\n",
    "        # If the message is just a string\n",
    "    elif isinstance(last_message, str):\n",
    "        print(f\"check str {last_message}\")\n",
    "        content = last_message.lower().strip() \n",
    "        print(f\"check str lower{last_message}\")\n",
    "        if \"Prepare report\" == content:\n",
    "            print(f\"check str {content}\")\n",
    "            goto= \"team_2_graph\"\n",
    "            state[\"next\"]= \"team_2_graph\"\n",
    "            print(goto) \n",
    "            return Command(goto=goto, update=state)\n",
    "        elif \"report gendrated\" == content:\n",
    "            print(\"✅ The message contains 'report gendrated'\")\n",
    "            goto= END\n",
    "            state[\"next\"]= END\n",
    "            print(goto) \n",
    "            return Command(goto=goto, update=state)\n",
    "        else:\n",
    "            print(\"✅ The message contains 'gendrat report'\")\n",
    "            goto= \"team_2_graph\"\n",
    "            state[\"next\"]= \"team_2_graph\"\n",
    "            print(goto) \n",
    "            return Command(goto=goto, update=state)\n",
    "\n",
    "    #isBool = True\n",
    "    # options = {\"team_1_graph\", \"team_2_graph\",END}\n",
    "    # # Pick one random value\n",
    "    # # selected = random.choice(list(options))\n",
    "    # response ={\"next\":selected} \n",
    "    # goto = response[\"next\"] \n",
    "    \n",
    "    # route to one of the teams or exit based on the supervisor's decision\n",
    "    # if the supervisor returns \"__end__\", the graph will finish execution\n",
    "    \n"
   ]
  },
  {
   "cell_type": "code",
   "execution_count": 482,
   "metadata": {},
   "outputs": [
    {
     "name": "stdout",
     "output_type": "stream",
     "text": [
      "Sun Pharma is an Indian multinational pharmaceutical company headquartered in Mumbai, Maharashtra. It is the largest pharmaceutical company in India and one of the largest pharmaceutical companies in the world. Sun Pharma manufactures and sells a wide range of pharmaceutical products in various therapeutic areas including dermatology, cardiology, neurology, and ophthalmology.\n"
     ]
    }
   ],
   "source": [
    "print(response)"
   ]
  },
  {
   "cell_type": "code",
   "execution_count": 483,
   "metadata": {},
   "outputs": [],
   "source": [
    "builder = StateGraph(State)\n",
    "builder.add_node(top_level_supervisor)\n",
    "builder.add_node(\"team_1_graph\", team_1_graph)\n",
    "builder.add_node(\"team_2_graph\", team_2_graph)\n",
    "builder.add_edge(START, \"top_level_supervisor\")\n",
    "builder.add_edge(\"team_1_graph\", \"top_level_supervisor\")\n",
    "builder.add_edge(\"team_2_graph\", \"top_level_supervisor\")\n",
    "graph = builder.compile()"
   ]
  },
  {
   "cell_type": "code",
   "execution_count": null,
   "metadata": {},
   "outputs": [],
   "source": []
  },
  {
   "cell_type": "code",
   "execution_count": 484,
   "metadata": {},
   "outputs": [
    {
     "data": {
      "image/png": "[encoded data removed]",
      "text/plain": [
       "<IPython.core.display.Image object>"
      ]
     },
     "metadata": {},
     "output_type": "display_data"
    }
   ],
   "source": [
    "from IPython.display import Image, display\n",
    "display(Image(team_2_graph.get_graph().draw_mermaid_png()))"
   ]
  },
  {
   "cell_type": "code",
   "execution_count": 485,
   "metadata": {},
   "outputs": [
    {
     "name": "stdout",
     "output_type": "stream",
     "text": [
      "**********Top Supervisor***************\n",
      "What is the panadol?\n",
      "team_1_graph\n",
      "**********team_1_supervisor***************\n",
      "content='What is the panadol?' additional_kwargs={} response_metadata={} id='d3299e81-7a9f-41b2-815c-d052f29c6b65'\n",
      "{'messages': [HumanMessage(content='What is the panadol?', additional_kwargs={}, response_metadata={}, id='d3299e81-7a9f-41b2-815c-d052f29c6b65')], 'next': 'team_1_graph'}\n",
      "Next: team_1_agent_1\n",
      "Message: The question is about Panadol, which is a medication.\n",
      "**********team_1_agent1***************\n"
     ]
    },
    {
     "name": "stdout",
     "output_type": "stream",
     "text": [
      "response of T1A1 :  <think>\n",
      "Okay, so I need to figure out what the user is asking about. They wrote, \"What is the panadol?\" I know that Panadol is a brand name for a medication, but I'm not exactly sure which one. I think it's related to pain relief. Let me try to recall. I believe Panadol is a common over-the-counter drug used to relieve headaches, fever, and other minor aches. \n",
      "\n",
      "Wait, isn't Panadol actually the brand name for paracetamol? Paracetamol is also known as acetaminophen in some countries. So, Panadol is just the brand name used in certain regions. I should confirm that. Yes, in many places like the UK, Australia, and parts of Asia, paracetamol is sold under the brand name Panadol. \n",
      "\n",
      "Now, considering the user's question, they might be asking about the active ingredient, uses, or perhaps the dosage. Since they just asked \"What is the panadol?\" it's a bit broad. They might be seeking a basic explanation. \n",
      "\n",
      "I should explain that Panadol is a brand name for paracetamol, which is used to relieve mild to moderate pain and reduce fever. It's important to note that while it's generally safe when used as directed, overdosing can lead to serious liver damage. \n",
      "\n",
      "I should also mention that it's available over-the-counter, so a prescription isn't usually needed. Maybe add something about consulting a healthcare professional before use, especially for people with certain medical conditions or those taking other medications. \n",
      "\n",
      "I should keep the explanation clear and concise, ensuring it's at least 10 lines as required. Let me structure it step by step to cover all the necessary points without being too technical.\n",
      "</think>\n",
      "\n",
      "{\n",
      "    \"next\": \"team_1_supervisor\",\n",
      "    \"message\": \"Panadol is a brand name for a medication that contains the active ingredient paracetamol (also known as acetaminophen in some countries). It is commonly used to relieve mild to moderate pain, such as headaches, toothaches, and muscle aches, as well as to reduce fever. Panadol is available in various forms, including tablets, capsules, and liquid suspensions, and is suitable for both adults and children when used as directed. It is important to note that while Panadol is generally safe and well-tolerated when taken at recommended doses, overdosing can lead to serious liver damage. Always consult a healthcare professional before taking any medication, especially if you have pre-existing medical conditions or are taking other medications. The recommended dosage for adults is typically up to 4000mg per day, but this can vary based on individual health circumstances. It is also important to be aware of any potential drug interactions or allergies. For further medical advice, it is best to consult a healthcare provider or pharmacist.\"\n",
      "}\n",
      "Next: team_1_supervisor\n",
      "Message: Panadol is a brand name for a medication that contains the active ingredient paracetamol (also known as acetaminophen in some countries). It is commonly used to relieve mild to moderate pain, such as headaches, toothaches, and muscle aches, as well as to reduce fever. Panadol is available in various forms, including tablets, capsules, and liquid suspensions, and is suitable for both adults and children when used as directed. It is important to note that while Panadol is generally safe and well-tolerated when taken at recommended doses, overdosing can lead to serious liver damage. Always consult a healthcare professional before taking any medication, especially if you have pre-existing medical conditions or are taking other medications. The recommended dosage for adults is typically up to 4000mg per day, but this can vary based on individual health circumstances. It is also important to be aware of any potential drug interactions or allergies. For further medical advice, it is best to consult a healthcare provider or pharmacist.\n",
      "**********team_1_supervisor***************\n",
      "content='What is the panadol?' additional_kwargs={} response_metadata={} id='d3299e81-7a9f-41b2-815c-d052f29c6b65'\n",
      "**********Top Supervisor***************\n",
      "Prepare report\n",
      "check str Prepare report\n",
      "check str lowerPrepare report\n",
      "✅ The message contains 'gendrat report'\n",
      "team_2_graph\n",
      "**********team_2_supervisor***************\n",
      "lastmessage :prepare report\n",
      "goto team_2_agent_1\n",
      "**********team_2_agent1***************\n",
      "✅ Generated Summary:\n",
      " <think>\n",
      "Alright, so the user asked me to prepare a report. They mentioned they're a financial assistant, so the report should be related to financial matters. The user didn't specify the exact topic, so I need to make it general but still detailed enough.\n",
      "\n",
      "I should start by summarizing the financial performance. That means looking at revenue trends and profitability. Maybe I'll note if there's been growth or any areas of concern. Then, I should talk about expense management, highlighting where costs are under control and where there might be inefficiencies.\n",
      "\n",
      "Next, cash flow is important. I need to mention liquidity and how well the company is managing its cash. If there are any issues with cash flow, I should point those out. Capital investments are another key area. I'll discuss recent investments and how they might impact future growth.\n",
      "\n",
      "Risk assessment is crucial. I should address any financial risks and suggest ways to mitigate them, like diversifying revenue streams or improving cost management. Finally, I'll outline the next steps, such as reviewing budgets, optimizing expenses, and maybe exploring new investment opportunities.\n",
      "\n",
      "I should keep each section concise, making sure the report is about 8–10 lines long. No markdown, just plain text. The tone needs to be professional and clear, avoiding any unnecessary jargon. I'll make sure each point flows logically to the next, providing a comprehensive overview without being too lengthy.\n",
      "\n",
      "I also need to ensure that the report is tailored to the user's needs, even though the query was a bit vague. By covering these key areas, the report should provide valuable insights and actionable recommendations. Let me put this all together in a structured manner to make it easy to understand.\n",
      "</think>\n",
      "\n",
      "**Financial Summary Report**  \n",
      "The financial performance indicates stable revenue growth of 8% YoY, driven by increased sales in key markets. Profit margins remain healthy at 12%, reflecting effective cost management. Cash flow is robust, with a 15% improvement in liquidity compared to the previous quarter. Recent capital investments in technology are expected to enhance operational efficiency. Risk assessment highlights moderate exposure to market volatility, suggesting a need for diversification. Next steps include reviewing budget allocations, optimizing expense structures, and exploring growth opportunities in emerging markets.\n",
      "**********team_2_supervisor***************\n",
      "lastmessage :<think>\n",
      "alright, so the user asked me to prepare a report. they mentioned they're a financial assistant, so the report should be related to financial matters. the user didn't specify the exact topic, so i need to make it general but still detailed enough.\n",
      "\n",
      "i should start by summarizing the financial performance. that means looking at revenue trends and profitability. maybe i'll note if there's been growth or any areas of concern. then, i should talk about expense management, highlighting where costs are under control and where there might be inefficiencies.\n",
      "\n",
      "next, cash flow is important. i need to mention liquidity and how well the company is managing its cash. if there are any issues with cash flow, i should point those out. capital investments are another key area. i'll discuss recent investments and how they might impact future growth.\n",
      "\n",
      "risk assessment is crucial. i should address any financial risks and suggest ways to mitigate them, like diversifying revenue streams or improving cost management. finally, i'll outline the next steps, such as reviewing budgets, optimizing expenses, and maybe exploring new investment opportunities.\n",
      "\n",
      "i should keep each section concise, making sure the report is about 8–10 lines long. no markdown, just plain text. the tone needs to be professional and clear, avoiding any unnecessary jargon. i'll make sure each point flows logically to the next, providing a comprehensive overview without being too lengthy.\n",
      "\n",
      "i also need to ensure that the report is tailored to the user's needs, even though the query was a bit vague. by covering these key areas, the report should provide valuable insights and actionable recommendations. let me put this all together in a structured manner to make it easy to understand.\n",
      "</think>\n",
      "\n",
      "**financial summary report**  \n",
      "the financial performance indicates stable revenue growth of 8% yoy, driven by increased sales in key markets. profit margins remain healthy at 12%, reflecting effective cost management. cash flow is robust, with a 15% improvement in liquidity compared to the previous quarter. recent capital investments in technology are expected to enhance operational efficiency. risk assessment highlights moderate exposure to market volatility, suggesting a need for diversification. next steps include reviewing budget allocations, optimizing expense structures, and exploring growth opportunities in emerging markets.\n",
      "goto team_2_agent_2\n",
      "**********team_2_agent2***************\n",
      "message content='Panadol is a brand name for a medication that contains the active ingredient paracetamol (also known as acetaminophen in some countries). It is commonly used to relieve mild to moderate pain, such as headaches, toothaches, and muscle aches, as well as to reduce fever. Panadol is available in various forms, including tablets, capsules, and liquid suspensions, and is suitable for both adults and children when used as directed. It is important to note that while Panadol is generally safe and well-tolerated when taken at recommended doses, overdosing can lead to serious liver damage. Always consult a healthcare professional before taking any medication, especially if you have pre-existing medical conditions or are taking other medications. The recommended dosage for adults is typically up to 4000mg per day, but this can vary based on individual health circumstances. It is also important to be aware of any potential drug interactions or allergies. For further medical advice, it is best to consult a healthcare provider or pharmacist.' additional_kwargs={} response_metadata={} id='d102aafc-1d1b-40d2-aa04-b1c8d536e065' \n",
      "✅ PDF saved as report_20250705_095131.pdf\n",
      "✅ Word Doc saved as report_20250705_095131.docx\n",
      "**********team_2_supervisor***************\n",
      "lastmessage :report generated\n",
      "goto END\n",
      "**********Top Supervisor***************\n",
      "Report generated\n",
      "check str Report generated\n",
      "check str lowerReport generated\n",
      "✅ The message contains 'gendrat report'\n",
      "team_2_graph\n",
      "**********team_2_supervisor***************\n",
      "lastmessage :report generated\n",
      "goto END\n",
      "**********Top Supervisor***************\n",
      "Report generated\n",
      "check str Report generated\n",
      "check str lowerReport generated\n",
      "✅ The message contains 'gendrat report'\n",
      "team_2_graph\n",
      "**********team_2_supervisor***************\n",
      "lastmessage :report generated\n",
      "goto END\n",
      "**********Top Supervisor***************\n",
      "Report generated\n",
      "check str Report generated\n",
      "check str lowerReport generated\n",
      "✅ The message contains 'gendrat report'\n",
      "team_2_graph\n",
      "**********team_2_supervisor***************\n",
      "lastmessage :report generated\n",
      "goto END\n"
     ]
    },
    {
     "ename": "GraphRecursionError",
     "evalue": "Recursion limit of 10 reached without hitting a stop condition. You can increase the limit by setting the `recursion_limit` config key.\nFor troubleshooting, visit: https://python.langchain.com/docs/troubleshooting/errors/GRAPH_RECURSION_LIMIT",
     "output_type": "error",
     "traceback": [
      "\u001b[0;31m---------------------------------------------------------------------------\u001b[0m",
      "\u001b[0;31mGraphRecursionError\u001b[0m                       Traceback (most recent call last)",
      "Cell \u001b[0;32mIn[485], line 1\u001b[0m\n\u001b[0;32m----> 1\u001b[0m \u001b[43mgraph\u001b[49m\u001b[38;5;241;43m.\u001b[39;49m\u001b[43minvoke\u001b[49m\u001b[43m(\u001b[49m\u001b[43m{\u001b[49m\u001b[38;5;124;43m\"\u001b[39;49m\u001b[38;5;124;43mmessages\u001b[39;49m\u001b[38;5;124;43m\"\u001b[39;49m\u001b[43m:\u001b[49m\u001b[43m[\u001b[49m\u001b[38;5;124;43m\"\u001b[39;49m\u001b[38;5;124;43mWhat is the panadol?\u001b[39;49m\u001b[38;5;124;43m\"\u001b[39;49m\u001b[43m]\u001b[49m\u001b[43m,\u001b[49m\u001b[38;5;124;43m\"\u001b[39;49m\u001b[38;5;124;43mnext\u001b[39;49m\u001b[38;5;124;43m\"\u001b[39;49m\u001b[43m:\u001b[49m\u001b[38;5;124;43m\"\u001b[39;49m\u001b[38;5;124;43mtop_level_supervisor\u001b[39;49m\u001b[38;5;124;43m\"\u001b[39;49m\u001b[43m}\u001b[49m\u001b[43m,\u001b[49m\u001b[43m \u001b[49m\u001b[43mconfig\u001b[49m\u001b[38;5;241;43m=\u001b[39;49m\u001b[43m{\u001b[49m\n\u001b[1;32m      2\u001b[0m \u001b[43m        \u001b[49m\u001b[38;5;124;43m\"\u001b[39;49m\u001b[38;5;124;43mrecursion_limit\u001b[39;49m\u001b[38;5;124;43m\"\u001b[39;49m\u001b[43m:\u001b[49m\u001b[43m \u001b[49m\u001b[38;5;241;43m10\u001b[39;49m\u001b[43m,\u001b[49m\n\u001b[1;32m      3\u001b[0m \u001b[43m        \u001b[49m\u001b[38;5;124;43m\"\u001b[39;49m\u001b[38;5;124;43mdebug\u001b[39;49m\u001b[38;5;124;43m\"\u001b[39;49m\u001b[43m:\u001b[49m\u001b[43m \u001b[49m\u001b[38;5;28;43;01mTrue\u001b[39;49;00m\n\u001b[1;32m      4\u001b[0m \u001b[43m    \u001b[49m\u001b[43m}\u001b[49m\u001b[43m)\u001b[49m\n",
      "File \u001b[0;32m/opt/miniconda3/envs/faiss-env/lib/python3.10/site-packages/langgraph/pregel/__init__.py:2719\u001b[0m, in \u001b[0;36mPregel.invoke\u001b[0;34m(self, input, config, stream_mode, output_keys, interrupt_before, interrupt_after, checkpoint_during, debug, **kwargs)\u001b[0m\n\u001b[1;32m   2716\u001b[0m chunks: \u001b[38;5;28mlist\u001b[39m[Union[\u001b[38;5;28mdict\u001b[39m[\u001b[38;5;28mstr\u001b[39m, Any], Any]] \u001b[38;5;241m=\u001b[39m []\n\u001b[1;32m   2717\u001b[0m interrupts: \u001b[38;5;28mlist\u001b[39m[Interrupt] \u001b[38;5;241m=\u001b[39m []\n\u001b[0;32m-> 2719\u001b[0m \u001b[38;5;28;01mfor\u001b[39;00m chunk \u001b[38;5;129;01min\u001b[39;00m \u001b[38;5;28mself\u001b[39m\u001b[38;5;241m.\u001b[39mstream(\n\u001b[1;32m   2720\u001b[0m     \u001b[38;5;28minput\u001b[39m,\n\u001b[1;32m   2721\u001b[0m     config,\n\u001b[1;32m   2722\u001b[0m     stream_mode\u001b[38;5;241m=\u001b[39mstream_mode,\n\u001b[1;32m   2723\u001b[0m     output_keys\u001b[38;5;241m=\u001b[39moutput_keys,\n\u001b[1;32m   2724\u001b[0m     interrupt_before\u001b[38;5;241m=\u001b[39minterrupt_before,\n\u001b[1;32m   2725\u001b[0m     interrupt_after\u001b[38;5;241m=\u001b[39minterrupt_after,\n\u001b[1;32m   2726\u001b[0m     checkpoint_during\u001b[38;5;241m=\u001b[39mcheckpoint_during,\n\u001b[1;32m   2727\u001b[0m     debug\u001b[38;5;241m=\u001b[39mdebug,\n\u001b[1;32m   2728\u001b[0m     \u001b[38;5;241m*\u001b[39m\u001b[38;5;241m*\u001b[39mkwargs,\n\u001b[1;32m   2729\u001b[0m ):\n\u001b[1;32m   2730\u001b[0m     \u001b[38;5;28;01mif\u001b[39;00m stream_mode \u001b[38;5;241m==\u001b[39m \u001b[38;5;124m\"\u001b[39m\u001b[38;5;124mvalues\u001b[39m\u001b[38;5;124m\"\u001b[39m:\n\u001b[1;32m   2731\u001b[0m         \u001b[38;5;28;01mif\u001b[39;00m (\n\u001b[1;32m   2732\u001b[0m             \u001b[38;5;28misinstance\u001b[39m(chunk, \u001b[38;5;28mdict\u001b[39m)\n\u001b[1;32m   2733\u001b[0m             \u001b[38;5;129;01mand\u001b[39;00m (ints \u001b[38;5;241m:=\u001b[39m chunk\u001b[38;5;241m.\u001b[39mget(INTERRUPT)) \u001b[38;5;129;01mis\u001b[39;00m \u001b[38;5;129;01mnot\u001b[39;00m \u001b[38;5;28;01mNone\u001b[39;00m\n\u001b[1;32m   2734\u001b[0m         ):\n",
      "File \u001b[0;32m/opt/miniconda3/envs/faiss-env/lib/python3.10/site-packages/langgraph/pregel/__init__.py:2456\u001b[0m, in \u001b[0;36mPregel.stream\u001b[0;34m(self, input, config, stream_mode, output_keys, interrupt_before, interrupt_after, checkpoint_during, debug, subgraphs)\u001b[0m\n\u001b[1;32m   2447\u001b[0m \u001b[38;5;28;01mif\u001b[39;00m loop\u001b[38;5;241m.\u001b[39mstatus \u001b[38;5;241m==\u001b[39m \u001b[38;5;124m\"\u001b[39m\u001b[38;5;124mout_of_steps\u001b[39m\u001b[38;5;124m\"\u001b[39m:\n\u001b[1;32m   2448\u001b[0m     msg \u001b[38;5;241m=\u001b[39m create_error_message(\n\u001b[1;32m   2449\u001b[0m         message\u001b[38;5;241m=\u001b[39m(\n\u001b[1;32m   2450\u001b[0m             \u001b[38;5;124mf\u001b[39m\u001b[38;5;124m\"\u001b[39m\u001b[38;5;124mRecursion limit of \u001b[39m\u001b[38;5;132;01m{\u001b[39;00mconfig[\u001b[38;5;124m'\u001b[39m\u001b[38;5;124mrecursion_limit\u001b[39m\u001b[38;5;124m'\u001b[39m]\u001b[38;5;132;01m}\u001b[39;00m\u001b[38;5;124m reached \u001b[39m\u001b[38;5;124m\"\u001b[39m\n\u001b[0;32m   (...)\u001b[0m\n\u001b[1;32m   2454\u001b[0m         error_code\u001b[38;5;241m=\u001b[39mErrorCode\u001b[38;5;241m.\u001b[39mGRAPH_RECURSION_LIMIT,\n\u001b[1;32m   2455\u001b[0m     )\n\u001b[0;32m-> 2456\u001b[0m     \u001b[38;5;28;01mraise\u001b[39;00m GraphRecursionError(msg)\n\u001b[1;32m   2457\u001b[0m \u001b[38;5;66;03m# set final channel values as run output\u001b[39;00m\n\u001b[1;32m   2458\u001b[0m run_manager\u001b[38;5;241m.\u001b[39mon_chain_end(loop\u001b[38;5;241m.\u001b[39moutput)\n",
      "\u001b[0;31mGraphRecursionError\u001b[0m: Recursion limit of 10 reached without hitting a stop condition. You can increase the limit by setting the `recursion_limit` config key.\nFor troubleshooting, visit: https://python.langchain.com/docs/troubleshooting/errors/GRAPH_RECURSION_LIMIT"
     ]
    }
   ],
   "source": [
    "graph.invoke({\"messages\":[\"What is the panadol?\"],\"next\":\"top_level_supervisor\"}, config={\n",
    "        \"recursion_limit\": 10,\n",
    "        \"debug\": True\n",
    "    })"
   ]
  }
 ],
 "metadata": {
  "kernelspec": {
   "display_name": "faiss-env",
   "language": "python",
   "name": "python3"
  },
  "language_info": {
   "codemirror_mode": {
    "name": "ipython",
    "version": 3
   },
   "file_extension": ".py",
   "mimetype": "text/x-python",
   "name": "python",
   "nbconvert_exporter": "python",
   "pygments_lexer": "ipython3",
   "version": "3.10.16"
  }
 },
 "nbformat": 4,
 "nbformat_minor": 2
}
